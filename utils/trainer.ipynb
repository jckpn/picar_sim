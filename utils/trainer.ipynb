{
 "cells": [
  {
   "cell_type": "code",
   "execution_count": 2,
   "metadata": {},
   "outputs": [
    {
     "name": "stdout",
     "output_type": "stream",
     "text": [
      "Loaded 4744 entires\n",
      "entry x.shape=(25, 25, 1), y.shape=()\n"
     ]
    }
   ],
   "source": [
    "import numpy as np\n",
    "\n",
    "X = []\n",
    "Y = []\n",
    "\n",
    "x_noise = 0.0\n",
    "y_noise = 0.0\n",
    "\n",
    "# TODO: randomly occlude large parts of the state input to simulate detection inconsistencies\n",
    "\n",
    "model_name = \"cam\"\n",
    "\n",
    "with open(f\"../utils/datasets/{model_name}.csv\") as f:\n",
    "    for i, line in enumerate(f):\n",
    "        data = line.split(\",\")\n",
    "        x = np.array(data[2:], dtype=np.float32)\n",
    "        y = np.array(data[:2], dtype=np.float32)\n",
    "\n",
    "        x[x > 1] = 0  # track only\n",
    "        y = y[1]  # steer only\n",
    "\n",
    "        grid_size = 25\n",
    "        x = x.reshape(grid_size, grid_size, 1)  # transform state back to grid\n",
    "\n",
    "        X.append(x)\n",
    "        Y.append(y)\n",
    "\n",
    "X = np.array(X, dtype=np.float32)\n",
    "Y = np.array(Y, dtype=np.float32)\n",
    "\n",
    "print(f\"Loaded {len(X)} entires\")\n",
    "print(f\"entry {x.shape=}, {y.shape=}\")"
   ]
  },
  {
   "cell_type": "code",
   "execution_count": 1,
   "metadata": {},
   "outputs": [
    {
     "name": "stdout",
     "output_type": "stream",
     "text": [
      "2.13.1\n"
     ]
    }
   ],
   "source": [
    "import keras\n",
    "print(keras.__version__)"
   ]
  },
  {
   "cell_type": "code",
   "execution_count": 4,
   "metadata": {},
   "outputs": [
    {
     "name": "stdout",
     "output_type": "stream",
     "text": [
      "Epoch 1/10\n",
      "119/119 [==============================] - 1s 3ms/step - loss: 0.0332 - val_loss: 0.0141\n",
      "Epoch 2/10\n",
      "119/119 [==============================] - 0s 3ms/step - loss: 0.0133 - val_loss: 0.0132\n",
      "Epoch 3/10\n",
      "119/119 [==============================] - 0s 3ms/step - loss: 0.0120 - val_loss: 0.0118\n",
      "Epoch 4/10\n",
      "119/119 [==============================] - 0s 3ms/step - loss: 0.0106 - val_loss: 0.0107\n",
      "Epoch 5/10\n",
      "119/119 [==============================] - 0s 3ms/step - loss: 0.0098 - val_loss: 0.0114\n",
      "Epoch 6/10\n",
      "119/119 [==============================] - 0s 3ms/step - loss: 0.0091 - val_loss: 0.0109\n",
      "Epoch 7/10\n",
      "119/119 [==============================] - 0s 3ms/step - loss: 0.0081 - val_loss: 0.0103\n",
      "Epoch 8/10\n",
      "119/119 [==============================] - 0s 3ms/step - loss: 0.0075 - val_loss: 0.0103\n",
      "Epoch 9/10\n",
      "119/119 [==============================] - 0s 3ms/step - loss: 0.0071 - val_loss: 0.0122\n",
      "Epoch 10/10\n",
      "119/119 [==============================] - 0s 3ms/step - loss: 0.0065 - val_loss: 0.0113\n"
     ]
    }
   ],
   "source": [
    "import keras\n",
    "\n",
    "model = keras.models.Sequential(\n",
    "    [\n",
    "        # keras.layers.InputLayer(shape=x.shape),\n",
    "        # lenet\n",
    "        keras.layers.Conv2D(6, kernel_size=(5, 5), activation=\"relu\"),\n",
    "        keras.layers.MaxPooling2D(pool_size=(2, 2)),\n",
    "        keras.layers.Conv2D(16, kernel_size=(5, 5), activation=\"relu\"),\n",
    "        keras.layers.MaxPooling2D(pool_size=(2, 2)),\n",
    "        keras.layers.Flatten(),\n",
    "        keras.layers.Dense(120, activation=\"relu\"),\n",
    "        keras.layers.Dense(84, activation=\"relu\"),\n",
    "        keras.layers.Dense(1),\n",
    "    ]\n",
    ")\n",
    "\n",
    "# TODO: add normal following to all experts' ds\n",
    "\n",
    "model.compile(\n",
    "    optimizer=\"adam\",\n",
    "    loss=\"mean_squared_error\",\n",
    ")\n",
    "\n",
    "model.fit(\n",
    "    X,\n",
    "    Y,\n",
    "    epochs=10,\n",
    "    validation_split=0.2,\n",
    "    callbacks=[keras.callbacks.EarlyStopping(patience=3)],\n",
    ")\n",
    "\n",
    "model.save(f\"../controllers/moe_controller/models/{model_name}-new.keras\")"
   ]
  },
  {
   "cell_type": "code",
   "execution_count": 25,
   "metadata": {},
   "outputs": [
    {
     "name": "stdout",
     "output_type": "stream",
     "text": [
      "avg inference time: 0.11ms\n"
     ]
    }
   ],
   "source": [
    "# time inference speed\n",
    "import time\n",
    "\n",
    "start = time.time()\n",
    "model(X[0:100])\n",
    "end = time.time()\n",
    "avg = (end - start) / 100\n",
    "print(f\"avg inference time: {avg*1000:.2f}ms\")"
   ]
  }
 ],
 "metadata": {
  "kernelspec": {
   "display_name": "picar-sim",
   "language": "python",
   "name": "python3"
  },
  "language_info": {
   "codemirror_mode": {
    "name": "ipython",
    "version": 3
   },
   "file_extension": ".py",
   "mimetype": "text/x-python",
   "name": "python",
   "nbconvert_exporter": "python",
   "pygments_lexer": "ipython3",
   "version": "3.10.14"
  }
 },
 "nbformat": 4,
 "nbformat_minor": 2
}
