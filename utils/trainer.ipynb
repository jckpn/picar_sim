{
 "cells": [
  {
   "cell_type": "code",
   "execution_count": 55,
   "metadata": {},
   "outputs": [
    {
     "name": "stdout",
     "output_type": "stream",
     "text": [
      "Loaded 13792 entires\n",
      "entry x.shape=(30, 30, 1), y.shape=()\n"
     ]
    }
   ],
   "source": [
    "import numpy as np\n",
    "\n",
    "X = []\n",
    "Y = []\n",
    "\n",
    "x_noise = 0.0\n",
    "y_noise = 0.0\n",
    "\n",
    "# TODO: randomly occlude large parts of the state input to simulate detection inconsistencies\n",
    "\n",
    "model_name = \"cam\"\n",
    "\n",
    "with open(f\"../utils/datasets/{model_name}.csv\") as f:\n",
    "    for i, line in enumerate(f):\n",
    "        data = line.split(\",\")\n",
    "        x = np.array(data[2:], dtype=np.float32)\n",
    "        y = np.array(data[:2], dtype=np.float32)\n",
    "\n",
    "        x[x > 1] = 0  # track only\n",
    "        y = y[1]  # steer only\n",
    "\n",
    "        grid_size = 30\n",
    "        x = x.reshape(grid_size, grid_size, 1)  # transform state back to grid\n",
    "\n",
    "        X.append(x)\n",
    "        Y.append(y)\n",
    "\n",
    "X = np.array(X, dtype=np.float32)\n",
    "Y = np.array(Y, dtype=np.float32)\n",
    "\n",
    "print(f\"Loaded {len(X)} entires\")\n",
    "print(f\"entry {x.shape=}, {y.shape=}\")"
   ]
  },
  {
   "cell_type": "markdown",
   "metadata": {},
   "source": []
  },
  {
   "cell_type": "code",
   "execution_count": 14,
   "metadata": {},
   "outputs": [
    {
     "name": "stdout",
     "output_type": "stream",
     "text": [
      "2.13.1\n"
     ]
    }
   ],
   "source": [
    "import keras\n",
    "print(keras.__version__)"
   ]
  },
  {
   "cell_type": "code",
   "execution_count": 56,
   "metadata": {},
   "outputs": [
    {
     "name": "stdout",
     "output_type": "stream",
     "text": [
      "Epoch 1/3\n",
      "431/431 [==============================] - 2s 4ms/step - loss: 0.0174\n",
      "Epoch 2/3\n",
      "431/431 [==============================] - 2s 4ms/step - loss: 0.0096\n",
      "Epoch 3/3\n",
      "431/431 [==============================] - 2s 4ms/step - loss: 0.0087\n"
     ]
    }
   ],
   "source": [
    "import keras\n",
    "\n",
    "model = keras.models.Sequential(\n",
    "    [\n",
    "        # lenet-5\n",
    "        keras.layers.Conv2D(6, kernel_size=(5, 5), activation=\"relu\", input_shape=(30, 30, 1)),\n",
    "        keras.layers.MaxPooling2D(pool_size=(2, 2)),\n",
    "        keras.layers.Conv2D(16, kernel_size=(5, 5), activation=\"relu\"),\n",
    "        keras.layers.MaxPooling2D(pool_size=(2, 2)),\n",
    "        keras.layers.Flatten(),\n",
    "        keras.layers.Dense(120, activation=\"relu\"),\n",
    "        keras.layers.Dense(84, activation=\"relu\"),\n",
    "        keras.layers.Dense(1),               \n",
    "    ]\n",
    ")\n",
    "\n",
    "# TODO: add normal following to all experts' ds\n",
    "\n",
    "model.compile(\n",
    "    optimizer=\"adam\",\n",
    "    loss=\"mean_squared_error\",\n",
    ")\n",
    "\n",
    "model.fit(\n",
    "    X,\n",
    "    Y,\n",
    "    epochs=3,\n",
    "    # validation_split=0.0,\n",
    "    # callbacks=[keras.callbacks.EarlyStopping(patience=1)],\n",
    ")\n",
    "\n",
    "model.save(f\"../controllers/moe_controller/models/{model_name}-new.keras\")"
   ]
  },
  {
   "cell_type": "code",
   "execution_count": 51,
   "metadata": {},
   "outputs": [
    {
     "name": "stdout",
     "output_type": "stream",
     "text": [
      "avg inference time: 0.10ms\n"
     ]
    }
   ],
   "source": [
    "# time inference speed\n",
    "import time\n",
    "\n",
    "start = time.time()\n",
    "model(X[0:100])\n",
    "end = time.time()\n",
    "avg = (end - start) / 100\n",
    "print(f\"avg inference time: {avg*1000:.2f}ms\")"
   ]
  }
 ],
 "metadata": {
  "kernelspec": {
   "display_name": "picar-sim",
   "language": "python",
   "name": "python3"
  },
  "language_info": {
   "codemirror_mode": {
    "name": "ipython",
    "version": 3
   },
   "file_extension": ".py",
   "mimetype": "text/x-python",
   "name": "python",
   "nbconvert_exporter": "python",
   "pygments_lexer": "ipython3",
   "version": "3.10.14"
  }
 },
 "nbformat": 4,
 "nbformat_minor": 2
}
