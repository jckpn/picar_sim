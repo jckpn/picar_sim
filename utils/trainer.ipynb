{
 "cells": [
  {
   "cell_type": "code",
   "execution_count": 25,
   "metadata": {},
   "outputs": [
    {
     "name": "stdout",
     "output_type": "stream",
     "text": [
      "Adding entries with input_noise=0.0\n",
      "Adding entries with input_noise=0.1\n",
      "Adding entries with input_noise=0.2\n",
      "Loaded 41376 entires\n",
      "entry x.shape=(30, 30, 1), y.shape=()\n"
     ]
    }
   ],
   "source": [
    "import numpy as np\n",
    "\n",
    "X = []\n",
    "Y = []\n",
    "\n",
    "\n",
    "def add_data(X, Y, csv_path, input_noises=[0.0]):\n",
    "    for input_noise in input_noises:\n",
    "        print(f\"Adding entries with {input_noise=}\")\n",
    "        with open(f\"../utils/datasets/{csv_path}\") as f:\n",
    "            for i, line in enumerate(f):\n",
    "                data = line.split(\",\")\n",
    "                x = np.array(data[2:], dtype=np.float32)\n",
    "                y = np.array(data[:2], dtype=np.float32)\n",
    "\n",
    "                y = y[1]  # steer only\n",
    "\n",
    "                # if adding noise, redo multiple times to reduce overfitting to noise\n",
    "                if input_noise > 0:\n",
    "                    for cell in range(len(x)):\n",
    "                        if np.random.rand() < input_noise:\n",
    "                            x[cell] = 0 if x[cell] == 1 else 1  # random bit flips\n",
    "\n",
    "                grid_size = 30\n",
    "                x = x.reshape(grid_size, grid_size, 1)  # transform state back to grid\n",
    "\n",
    "                X.append(x)\n",
    "                Y.append(y)\n",
    "    return X, Y\n",
    "\n",
    "\n",
    "X, Y = add_data(X, Y, \"kaggle_30_binary.csv\", input_noises=[0.0, 0.1, 0.2])\n",
    "X, Y = add_data(X, Y, \"sim_oval_30_binary.csv\", input_noises=[0.2, 0.3, 0.4])\n",
    "\n",
    "X = np.array(X, dtype=np.float32)\n",
    "Y = np.array(Y, dtype=np.float32)\n",
    "\n",
    "print(f\"Loaded {len(X)} entires\")\n",
    "print(f\"entry {x.shape=}, {y.shape=}\")"
   ]
  },
  {
   "cell_type": "markdown",
   "metadata": {},
   "source": []
  },
  {
   "cell_type": "code",
   "execution_count": 26,
   "metadata": {},
   "outputs": [
    {
     "name": "stdout",
     "output_type": "stream",
     "text": [
      "Epoch 1/5\n",
      "1293/1293 [==============================] - 8s 6ms/step - loss: 0.0157\n",
      "Epoch 2/5\n",
      "1293/1293 [==============================] - 8s 6ms/step - loss: 0.0121\n",
      "Epoch 3/5\n",
      "1293/1293 [==============================] - 8s 6ms/step - loss: 0.0106\n",
      "Epoch 4/5\n",
      "1293/1293 [==============================] - 8s 6ms/step - loss: 0.0092\n",
      "Epoch 5/5\n",
      "1293/1293 [==============================] - 9s 7ms/step - loss: 0.0081\n"
     ]
    }
   ],
   "source": [
    "import keras\n",
    "\n",
    "model = keras.models.Sequential(\n",
    "    [\n",
    "        # lenet-5, modified to have double the filter count\n",
    "        keras.layers.Conv2D(\n",
    "            16, kernel_size=(5, 5), activation=\"relu\", input_shape=(30, 30, 1)\n",
    "        ),\n",
    "        keras.layers.MaxPooling2D(pool_size=(2, 2)),\n",
    "        keras.layers.Conv2D(32, kernel_size=(5, 5), activation=\"relu\"),\n",
    "        keras.layers.MaxPooling2D(pool_size=(2, 2)),\n",
    "        keras.layers.Flatten(),\n",
    "        keras.layers.Dense(120, activation=\"relu\"),\n",
    "        keras.layers.Dense(84, activation=\"relu\"),\n",
    "        keras.layers.Dense(1),\n",
    "    ]\n",
    ")\n",
    "\n",
    "# TODO: add normal following to all experts' ds\n",
    "\n",
    "model.compile(\n",
    "    optimizer=\"adam\",\n",
    "    loss=\"mean_squared_error\",\n",
    ")\n",
    "\n",
    "model.fit(\n",
    "    X,\n",
    "    Y,\n",
    "    epochs=5,\n",
    "    # validation_split=0.2,\n",
    "    # callbacks=[\n",
    "    #     keras.callbacks.EarlyStopping(patience=1),\n",
    "    # ],\n",
    ")\n",
    "\n",
    "model_name = \"kaggle_track_30_binary\"\n",
    "\n",
    "model_save_path = f\"../shared/models/{model_name}.keras\"\n",
    "model.save(model_save_path)"
   ]
  },
  {
   "cell_type": "code",
   "execution_count": 22,
   "metadata": {},
   "outputs": [
    {
     "name": "stdout",
     "output_type": "stream",
     "text": [
      "INFO:tensorflow:Assets written to: /var/folders/_j/ym4tpz295j346nyxgg80y0740000gn/T/tmpphzjywzm/assets\n"
     ]
    },
    {
     "name": "stderr",
     "output_type": "stream",
     "text": [
      "INFO:tensorflow:Assets written to: /var/folders/_j/ym4tpz295j346nyxgg80y0740000gn/T/tmpphzjywzm/assets\n",
      "2024-05-01 13:06:05.939427: W tensorflow/compiler/mlir/lite/python/tf_tfl_flatbuffer_helpers.cc:364] Ignored output_format.\n",
      "2024-05-01 13:06:05.939817: W tensorflow/compiler/mlir/lite/python/tf_tfl_flatbuffer_helpers.cc:367] Ignored drop_control_dependency.\n",
      "2024-05-01 13:06:05.941782: I tensorflow/cc/saved_model/reader.cc:45] Reading SavedModel from: /var/folders/_j/ym4tpz295j346nyxgg80y0740000gn/T/tmpphzjywzm\n",
      "2024-05-01 13:06:05.943502: I tensorflow/cc/saved_model/reader.cc:91] Reading meta graph with tags { serve }\n",
      "2024-05-01 13:06:05.943515: I tensorflow/cc/saved_model/reader.cc:132] Reading SavedModel debug info (if present) from: /var/folders/_j/ym4tpz295j346nyxgg80y0740000gn/T/tmpphzjywzm\n",
      "2024-05-01 13:06:05.957537: I tensorflow/cc/saved_model/loader.cc:231] Restoring SavedModel bundle.\n",
      "2024-05-01 13:06:06.097370: I tensorflow/cc/saved_model/loader.cc:215] Running initialization op on SavedModel bundle at path: /var/folders/_j/ym4tpz295j346nyxgg80y0740000gn/T/tmpphzjywzm\n",
      "2024-05-01 13:06:06.117516: I tensorflow/cc/saved_model/loader.cc:314] SavedModel load for tags { serve }; Status: success: OK. Took 175743 microseconds.\n"
     ]
    }
   ],
   "source": [
    "import tensorflow as tf\n",
    "\n",
    "# Convert the model\n",
    "converter = tf.lite.TFLiteConverter.from_keras_model(model)\n",
    "tflite_model = converter.convert()\n",
    "\n",
    "# Save the model.\n",
    "model_save_path = f\"../shared/models/{model_name}.tflite\"\n",
    "with open(model_save_path, 'wb') as f:\n",
    "  f.write(tflite_model)"
   ]
  },
  {
   "cell_type": "code",
   "execution_count": 28,
   "metadata": {},
   "outputs": [
    {
     "name": "stdout",
     "output_type": "stream",
     "text": [
      "avg inference time: 0.11ms\n"
     ]
    }
   ],
   "source": [
    "# time inference speed\n",
    "import time\n",
    "\n",
    "start = time.time()\n",
    "model(X[0:100])\n",
    "end = time.time()\n",
    "avg = (end - start) / 100\n",
    "print(f\"avg inference time: {avg*1000:.2f}ms\")"
   ]
  }
 ],
 "metadata": {
  "kernelspec": {
   "display_name": "picar-sim",
   "language": "python",
   "name": "python3"
  },
  "language_info": {
   "codemirror_mode": {
    "name": "ipython",
    "version": 3
   },
   "file_extension": ".py",
   "mimetype": "text/x-python",
   "name": "python",
   "nbconvert_exporter": "python",
   "pygments_lexer": "ipython3",
   "version": "3.10.14"
  }
 },
 "nbformat": 4,
 "nbformat_minor": 2
}
