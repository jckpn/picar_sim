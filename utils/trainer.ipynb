{
 "cells": [
  {
   "cell_type": "code",
   "execution_count": 3,
   "metadata": {},
   "outputs": [
    {
     "name": "stdout",
     "output_type": "stream",
     "text": [
      "Adding entries with input_noise=0.0\n",
      "Adding entries with input_noise=0.1\n",
      "Adding entries with input_noise=0.2\n",
      "Adding entries with input_noise=0.3\n",
      "Adding entries with input_noise=0.4\n",
      "Adding entries with input_noise=0.5\n",
      "Loaded 82752 entires\n",
      "entry x.shape=(30, 30, 1), y.shape=()\n"
     ]
    }
   ],
   "source": [
    "import numpy as np\n",
    "\n",
    "X = []\n",
    "Y = []\n",
    "\n",
    "input_noises = [0.0, 0.1, 0.2, 0.3, 0.4, 0.5]\n",
    "model_name = \"cam\"\n",
    "\n",
    "for input_noise in input_noises:\n",
    "    print(f\"Adding entries with {input_noise=}\")\n",
    "    with open(f\"../utils/datasets/{model_name}.csv\") as f:\n",
    "        for i, line in enumerate(f):\n",
    "            data = line.split(\",\")\n",
    "            x = np.array(data[2:], dtype=np.float32)\n",
    "            y = np.array(data[:2], dtype=np.float32)\n",
    "\n",
    "            y = y[1]  # steer only\n",
    "\n",
    "            # if adding noise, redo multiple times to reduce overfitting to noise\n",
    "            if input_noise > 0:\n",
    "                for cell in range(len(x)):\n",
    "                    if np.random.rand() < input_noise:\n",
    "                        x[cell] = 0 if x[cell] == 1 else 1  # random bit flips\n",
    "\n",
    "            grid_size = 30\n",
    "            x = x.reshape(grid_size, grid_size, 1)  # transform state back to grid\n",
    "\n",
    "            X.append(x)\n",
    "            Y.append(y)\n",
    "\n",
    "X = np.array(X, dtype=np.float32)\n",
    "Y = np.array(Y, dtype=np.float32)\n",
    "\n",
    "print(f\"Loaded {len(X)} entires\")\n",
    "print(f\"entry {x.shape=}, {y.shape=}\")"
   ]
  },
  {
   "cell_type": "markdown",
   "metadata": {},
   "source": []
  },
  {
   "cell_type": "code",
   "execution_count": 14,
   "metadata": {},
   "outputs": [
    {
     "name": "stdout",
     "output_type": "stream",
     "text": [
      "2.13.1\n"
     ]
    }
   ],
   "source": [
    "import keras\n",
    "print(keras.__version__)"
   ]
  },
  {
   "cell_type": "code",
   "execution_count": 13,
   "metadata": {},
   "outputs": [
    {
     "name": "stdout",
     "output_type": "stream",
     "text": [
      "Epoch 1/5\n",
      "2586/2586 [==============================] - 14s 5ms/step - loss: 0.0177\n",
      "Epoch 2/5\n",
      "2586/2586 [==============================] - 13s 5ms/step - loss: 0.0159\n",
      "Epoch 3/5\n",
      "2586/2586 [==============================] - 13s 5ms/step - loss: 0.0151\n",
      "Epoch 4/5\n",
      "2586/2586 [==============================] - 13s 5ms/step - loss: 0.0145\n",
      "Epoch 5/5\n",
      "2586/2586 [==============================] - 13s 5ms/step - loss: 0.0140\n"
     ]
    }
   ],
   "source": [
    "import keras\n",
    "\n",
    "model = keras.models.Sequential(\n",
    "    [\n",
    "        # lenet-5\n",
    "        keras.layers.Conv2D(\n",
    "            16, kernel_size=(5, 5), activation=\"relu\", input_shape=(30, 30, 1)\n",
    "        ),\n",
    "        keras.layers.MaxPooling2D(pool_size=(2, 2)),\n",
    "        keras.layers.Conv2D(32, kernel_size=(5, 5), activation=\"relu\"),\n",
    "        keras.layers.MaxPooling2D(pool_size=(2, 2)),\n",
    "        keras.layers.Flatten(),\n",
    "        keras.layers.Dense(120, activation=\"relu\"),\n",
    "        keras.layers.Dense(84, activation=\"relu\"),\n",
    "        keras.layers.Dense(1, activation=\"sigmoid\"),\n",
    "    ]\n",
    ")\n",
    "\n",
    "# TODO: add normal following to all experts' ds\n",
    "\n",
    "model.compile(\n",
    "    optimizer=\"adam\",\n",
    "    loss=\"mean_squared_error\",\n",
    ")\n",
    "\n",
    "model.fit(\n",
    "    X,\n",
    "    Y,\n",
    "    epochs=5,\n",
    "    # validation_split=0.2,\n",
    "    # callbacks=[\n",
    "    #     keras.callbacks.EarlyStopping(patience=1),\n",
    "    # ],\n",
    ")\n",
    "\n",
    "model.save(f\"../controllers/moe_controller/models/{model_name}.keras\")"
   ]
  },
  {
   "cell_type": "code",
   "execution_count": 28,
   "metadata": {},
   "outputs": [
    {
     "name": "stdout",
     "output_type": "stream",
     "text": [
      "avg inference time: 0.11ms\n"
     ]
    }
   ],
   "source": [
    "# time inference speed\n",
    "import time\n",
    "\n",
    "start = time.time()\n",
    "model(X[0:100])\n",
    "end = time.time()\n",
    "avg = (end - start) / 100\n",
    "print(f\"avg inference time: {avg*1000:.2f}ms\")"
   ]
  }
 ],
 "metadata": {
  "kernelspec": {
   "display_name": "picar-sim",
   "language": "python",
   "name": "python3"
  },
  "language_info": {
   "codemirror_mode": {
    "name": "ipython",
    "version": 3
   },
   "file_extension": ".py",
   "mimetype": "text/x-python",
   "name": "python",
   "nbconvert_exporter": "python",
   "pygments_lexer": "ipython3",
   "version": "3.10.14"
  }
 },
 "nbformat": 4,
 "nbformat_minor": 2
}
